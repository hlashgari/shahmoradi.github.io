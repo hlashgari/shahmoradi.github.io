{
 "metadata": {
  "name": "",
  "signature": "sha256:815cbc4a2c6d81dc70ee827e62c992b40f5a8ca6851265871823df1effb5e9a5"
 },
 "nbformat": 3,
 "nbformat_minor": 0,
 "worksheets": [
  {
   "cells": [
    {
     "cell_type": "markdown",
     "metadata": {},
     "source": [
      "## Creating csv files from Python\n",
      "\n",
      "This worksheet provides an example of a basic pipeline which generates/processes data, with some number-crunching, in python, and then exports the data to a csv (comma-separated values) file which can then be read into R for analysis.\n",
      "<br><br><br>"
     ]
    },
    {
     "cell_type": "markdown",
     "metadata": {},
     "source": [
      "In this example analysis, we will analyze 80 sequences of the influenza PB2 gene, a subunit of the influenza's RNA polymerase. We will use python to compute the adenine content for each gene and output a csv file containing this information. Our csv file will contain two columns: the sequence id, and the adenine content (in decimal format).\n",
      "\n",
      "First, let's collect the information we need and save it to a dictionary. Note that, throughout this code, there are commented-out `print` statements to show you where good places to \"print things out as you write code\" are!"
     ]
    },
    {
     "cell_type": "code",
     "collapsed": false,
     "input": [
      "# Import biopython SeqIO module\n",
      "from Bio import SeqIO\n",
      "\n",
      "# Read in sequence file, pb2_human.fasta. This file is in \"fasta\" format\n",
      "sequences = SeqIO.parse(\"pb2_human.fasta\", \"fasta\")\n",
      "\n",
      "# print sequences\n",
      "\n",
      "# Create a dictionary to store the information we need. Keys will be gene IDs, and values will be adenine content\n",
      "adenine_dict = {}\n",
      "\n",
      "# Loop over the sequences to compute A-content, saving information to dictionary as we go\n",
      "for sequence in sequences:\n",
      "    \n",
      "    # A-content calculation\n",
      "    num_a = sequence.seq.count(\"A\")\n",
      "    length = len(sequence.seq)\n",
      "    a_content = float(num_a) / length\n",
      "    \n",
      "    # print a_content\n",
      "    \n",
      "    # Save to dictionary\n",
      "    adenine_dict[ str(sequence.id) ] = a_content\n",
      "\n",
      "# print adenine_dict\n",
      "\n",
      "# Open a file to write our information to\n",
      "write_handle = open(\"pb2_adenine.csv\", \"w\") # \"w\" flag means open for writing\n",
      "\n",
      "# Write a header line to the file\n",
      "write_handle.write(\"id,a_content\\n\") # \\n means \"new line\" (enter/return)\n",
      "\n",
      "# Write each key: value pair to a line in the file\n",
      "for key in adenine_dict:\n",
      "    \n",
      "    # Define line to write to file. This should be a *string*!! \n",
      "    # Use + to add parts together, and str() to make sure everything you write is a string\n",
      "    output = str(key) + \",\" + str(adenine_dict[key]) + \"\\n\"\n",
      "    \n",
      "    # write output to file\n",
      "    write_handle.write(output)\n",
      "\n",
      "# Now that we've written to the file, close it!\n",
      "write_handle.close()    "
     ],
     "language": "python",
     "metadata": {},
     "outputs": [],
     "prompt_number": 18
    },
    {
     "cell_type": "markdown",
     "metadata": {},
     "source": [
      "We've now created a file called `pb2_adenine.csv`. Just to demonstrate that all went according to plan, we'll read in the file and print the first few lines."
     ]
    },
    {
     "cell_type": "code",
     "collapsed": false,
     "input": [
      "# Double check by reading in the file\n",
      "read_handle = open(\"pb2_adenine.csv\", \"r\") # \"r\" flag means open for reading\n",
      "lines = read_handle.readlines()\n",
      "read_handle.close()\n",
      "\n",
      "# Print first 6 lines, just to be sure\n",
      "for i in range(6):\n",
      "    print lines[i]\n"
     ],
     "language": "python",
     "metadata": {},
     "outputs": [
      {
       "output_type": "stream",
       "stream": "stdout",
       "text": [
        "id,a_content\n",
        "\n",
        "Hu_AAY59044,0.345630215195\n",
        "\n",
        "Hu_AAO46257,0.346069389548\n",
        "\n",
        "Hu_ABD62852,0.336846728151\n",
        "\n",
        "Hu_ABI93038,0.346069389548\n",
        "\n",
        "Hu_ABA55038,0.332015810277\n",
        "\n"
       ]
      }
     ],
     "prompt_number": 19
    },
    {
     "cell_type": "markdown",
     "metadata": {},
     "source": [
      "We have successfully created a .csv file! As usual, we can read this file into R using the line: <br>\n",
      "`df <- read.csv(\"pb2_adenine.csv\")` \n",
      "<br> and we can then perform any statistical analyses and create any plots we need to produce."
     ]
    },
    {
     "cell_type": "markdown",
     "metadata": {},
     "source": [
      "<br>\n",
      "\n",
      "## Exercise\n",
      "Use python to create a csv file that contains 5 columns: id, a_content, c_content, g_content, and t_content. Each content column should be the percent of the given nucleotide in that sequence.\n",
      "\n",
      "+ Bonus! \n",
      "  + Use a for-loop to build up the \"output\" lines you will write to the file.\n",
      "+ Bonus bonus!\n",
      "  + Add in a 6th column called \"melting_temp\", which gives the sequence's melting temperature, as computed from the nucleotide content. The formula for melting temperature (in Celsius) is, <br> `Tm = 2(A + T) + 4(G + C)` <br>, where A, T, G, C are **counts**.\n",
      "+ Bonus bonus bonus! Rearrange this code such that the following tasks are accomplished with functions:\n",
      "   + nucleotide percentage calculation\n",
      "   + melting temperature calculation"
     ]
    },
    {
     "cell_type": "code",
     "collapsed": false,
     "input": [],
     "language": "python",
     "metadata": {},
     "outputs": []
    }
   ],
   "metadata": {}
  }
 ]
}