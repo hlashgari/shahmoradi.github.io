{
 "metadata": {
  "name": "",
  "signature": "sha256:919512891b02382d287f562cf97a903d5cb7983742ad0f739cc59b3517db4b6a"
 },
 "nbformat": 3,
 "nbformat_minor": 0,
 "worksheets": [
  {
   "cells": [
    {
     "cell_type": "heading",
     "level": 1,
     "metadata": {},
     "source": [
      "Debugging Strategies in Python <br>"
     ]
    },
    {
     "cell_type": "markdown",
     "metadata": {},
     "source": [
      "## Error messages are informative!\n",
      "\n",
      "If your code produces an error, always look at the error message that python gives you! Error messages will tell which **line** of code that caused the error and the **type** of error that occurred, usually with some helpful statement. \n",
      "\n",
      "For example, here is some code which raises an error:"
     ]
    },
    {
     "cell_type": "code",
     "collapsed": false,
     "input": [
      "for i in range(5):\n",
      "    print w"
     ],
     "language": "python",
     "metadata": {},
     "outputs": [
      {
       "ename": "NameError",
       "evalue": "name 'w' is not defined",
       "output_type": "pyerr",
       "traceback": [
        "\u001b[0;31m---------------------------------------------------------------------------\u001b[0m\n\u001b[0;31mNameError\u001b[0m                                 Traceback (most recent call last)",
        "\u001b[0;32m<ipython-input-1-70e2694c9d34>\u001b[0m in \u001b[0;36m<module>\u001b[0;34m()\u001b[0m\n\u001b[1;32m      1\u001b[0m \u001b[0;32mfor\u001b[0m \u001b[0mi\u001b[0m \u001b[0;32min\u001b[0m \u001b[0mrange\u001b[0m\u001b[0;34m(\u001b[0m\u001b[0;36m5\u001b[0m\u001b[0;34m)\u001b[0m\u001b[0;34m:\u001b[0m\u001b[0;34m\u001b[0m\u001b[0m\n\u001b[0;32m----> 2\u001b[0;31m     \u001b[0;32mprint\u001b[0m \u001b[0mw\u001b[0m\u001b[0;34m\u001b[0m\u001b[0m\n\u001b[0m",
        "\u001b[0;31mNameError\u001b[0m: name 'w' is not defined"
       ]
      }
     ],
     "prompt_number": 1
    },
    {
     "cell_type": "markdown",
     "metadata": {},
     "source": [
      "In this error output, we see an arrow pointing to the \"broken\" line of code (line 2). This helps us direct our debugging efforts, because we know exactly where the problematic code is located. Sometimes, you will instead see an explicit line number printed out telling you where the error is (see examples below). \n",
      "\n",
      "In addition, the output tells us that a **NameError** occurred. In python, a NameError occurs when you attempt to use a variable that does not exist. This is exactly what python told us: \"NameError: name 'w' is not defined\". This error message tells us plainly that the variable `w` does not exist. So, we know we should modify our code so that there is a `w` to print!"
     ]
    },
    {
     "cell_type": "code",
     "collapsed": false,
     "input": [
      "w = 82\n",
      "for i in range(5):\n",
      "    print w    "
     ],
     "language": "python",
     "metadata": {},
     "outputs": [
      {
       "output_type": "stream",
       "stream": "stdout",
       "text": [
        "82\n",
        "82\n",
        "82\n",
        "82\n",
        "82\n"
       ]
      }
     ],
     "prompt_number": 2
    },
    {
     "cell_type": "markdown",
     "metadata": {},
     "source": [
      "And now, the code works properly with no errors. There are many other types of \"standard errors\" like NameError (see here: https://docs.python.org/2/library/exceptions.html), but here are some  ones you'll likely encounter: \n",
      "\n",
      "+ SyntaxError\n",
      "+ ValueError\n",
      "+ TypeError\n",
      "+ KeyError\n",
      "+ IndexError\n",
      "\n",
      "Examples of these errors are shown below."
     ]
    },
    {
     "cell_type": "markdown",
     "metadata": {},
     "source": [
      "### Syntax Error\n",
      "\n",
      "A SyntaxError occurs when you have not written a piece of code properly. These errors generally indicate that you have a typo, and they often happen when you are missing important symbols. \n",
      "\n",
      "Python tells you exactly where the syntax problem is by explicitly stating the line in which the error occurred. Also, python actually gives a little carrot arrow to point out the exact location in the line where it found a syntax issue!"
     ]
    },
    {
     "cell_type": "code",
     "collapsed": false,
     "input": [
      "# SyntaxError example 1\n",
      "# Missing a closing bracket at the end of list definition\n",
      "\n",
      "mylist = [1,2,3,4   "
     ],
     "language": "python",
     "metadata": {},
     "outputs": [
      {
       "ename": "SyntaxError",
       "evalue": "invalid syntax (<ipython-input-3-e6173cc81587>, line 4)",
       "output_type": "pyerr",
       "traceback": [
        "\u001b[0;36m  File \u001b[0;32m\"<ipython-input-3-e6173cc81587>\"\u001b[0;36m, line \u001b[0;32m4\u001b[0m\n\u001b[0;31m    mylist = [1,2,3,4\u001b[0m\n\u001b[0m                        ^\u001b[0m\n\u001b[0;31mSyntaxError\u001b[0m\u001b[0;31m:\u001b[0m invalid syntax\n"
       ]
      }
     ],
     "prompt_number": 3
    },
    {
     "cell_type": "code",
     "collapsed": false,
     "input": [
      "# SyntaxError example 2 - \n",
      "# To print two values together, you need to separate them with a comma (or for strings, a plus sign)\n",
      "\n",
      "a = \"string 1\"\n",
      "b = \"string 2\"\n",
      "print a b"
     ],
     "language": "python",
     "metadata": {},
     "outputs": [
      {
       "ename": "SyntaxError",
       "evalue": "invalid syntax (<ipython-input-4-18b5d8145697>, line 6)",
       "output_type": "pyerr",
       "traceback": [
        "\u001b[0;36m  File \u001b[0;32m\"<ipython-input-4-18b5d8145697>\"\u001b[0;36m, line \u001b[0;32m6\u001b[0m\n\u001b[0;31m    print a b\u001b[0m\n\u001b[0m            ^\u001b[0m\n\u001b[0;31mSyntaxError\u001b[0m\u001b[0;31m:\u001b[0m invalid syntax\n"
       ]
      }
     ],
     "prompt_number": 4
    },
    {
     "cell_type": "code",
     "collapsed": false,
     "input": [
      "# SyntaxError example 3\n",
      "# missing colon when writing a for loop\n",
      "\n",
      "fruit = [\"banana\", \"apple\", \"pear\", \"grape\"]\n",
      "for f in fruit\n",
      "    print \"This is a fruit:\", f"
     ],
     "language": "python",
     "metadata": {},
     "outputs": [
      {
       "ename": "SyntaxError",
       "evalue": "invalid syntax (<ipython-input-5-95c90e82bf39>, line 5)",
       "output_type": "pyerr",
       "traceback": [
        "\u001b[0;36m  File \u001b[0;32m\"<ipython-input-5-95c90e82bf39>\"\u001b[0;36m, line \u001b[0;32m5\u001b[0m\n\u001b[0;31m    for f in fruit\u001b[0m\n\u001b[0m                  ^\u001b[0m\n\u001b[0;31mSyntaxError\u001b[0m\u001b[0;31m:\u001b[0m invalid syntax\n"
       ]
      }
     ],
     "prompt_number": 5
    },
    {
     "cell_type": "markdown",
     "metadata": {},
     "source": [
      "### ValueError\n",
      "\n",
      "A ValueError occurs when you provide a python function with an inappropriate argument."
     ]
    },
    {
     "cell_type": "code",
     "collapsed": false,
     "input": [
      "# ValueError example\n",
      "number = \"mystring!\"\n",
      "print int(number)"
     ],
     "language": "python",
     "metadata": {},
     "outputs": [
      {
       "ename": "ValueError",
       "evalue": "invalid literal for int() with base 10: 'mystring!'",
       "output_type": "pyerr",
       "traceback": [
        "\u001b[0;31m---------------------------------------------------------------------------\u001b[0m\n\u001b[0;31mValueError\u001b[0m                                Traceback (most recent call last)",
        "\u001b[0;32m<ipython-input-6-a899aa91003e>\u001b[0m in \u001b[0;36m<module>\u001b[0;34m()\u001b[0m\n\u001b[1;32m      1\u001b[0m \u001b[0;31m# ValueError example\u001b[0m\u001b[0;34m\u001b[0m\u001b[0;34m\u001b[0m\u001b[0m\n\u001b[1;32m      2\u001b[0m \u001b[0mnumber\u001b[0m \u001b[0;34m=\u001b[0m \u001b[0;34m\"mystring!\"\u001b[0m\u001b[0;34m\u001b[0m\u001b[0m\n\u001b[0;32m----> 3\u001b[0;31m \u001b[0;32mprint\u001b[0m \u001b[0mint\u001b[0m\u001b[0;34m(\u001b[0m\u001b[0mnumber\u001b[0m\u001b[0;34m)\u001b[0m\u001b[0;34m\u001b[0m\u001b[0m\n\u001b[0m",
        "\u001b[0;31mValueError\u001b[0m: invalid literal for int() with base 10: 'mystring!'"
       ]
      }
     ],
     "prompt_number": 6
    },
    {
     "cell_type": "markdown",
     "metadata": {},
     "source": [
      "### TypeError\n",
      "\n",
      "A TypeError occurs when you apply an operation to a variable of inappropriate type. They are similar to ValueErrors, although TypeErrors happen specifically when the operation being used only works on certain variable types. For instance, the `len()` function is only allowed to be used on lists, dictionaries, strings, and tuples."
     ]
    },
    {
     "cell_type": "code",
     "collapsed": false,
     "input": [
      "# TypeError example 1\n",
      "a = 7\n",
      "print len(a)"
     ],
     "language": "python",
     "metadata": {},
     "outputs": [
      {
       "ename": "TypeError",
       "evalue": "object of type 'int' has no len()",
       "output_type": "pyerr",
       "traceback": [
        "\u001b[0;31m---------------------------------------------------------------------------\u001b[0m\n\u001b[0;31mTypeError\u001b[0m                                 Traceback (most recent call last)",
        "\u001b[0;32m<ipython-input-7-b2aff0ba5352>\u001b[0m in \u001b[0;36m<module>\u001b[0;34m()\u001b[0m\n\u001b[1;32m      1\u001b[0m \u001b[0;31m# TypeError example 1\u001b[0m\u001b[0;34m\u001b[0m\u001b[0;34m\u001b[0m\u001b[0m\n\u001b[1;32m      2\u001b[0m \u001b[0ma\u001b[0m \u001b[0;34m=\u001b[0m \u001b[0;36m7\u001b[0m\u001b[0;34m\u001b[0m\u001b[0m\n\u001b[0;32m----> 3\u001b[0;31m \u001b[0;32mprint\u001b[0m \u001b[0mlen\u001b[0m\u001b[0;34m(\u001b[0m\u001b[0ma\u001b[0m\u001b[0;34m)\u001b[0m\u001b[0;34m\u001b[0m\u001b[0m\n\u001b[0m",
        "\u001b[0;31mTypeError\u001b[0m: object of type 'int' has no len()"
       ]
      }
     ],
     "prompt_number": 7
    },
    {
     "cell_type": "code",
     "collapsed": false,
     "input": [
      "# TypeError example 2 - you can't subtract from strings!\n",
      "a = \"this is a string\"\n",
      "print a - 1 "
     ],
     "language": "python",
     "metadata": {},
     "outputs": [
      {
       "ename": "TypeError",
       "evalue": "unsupported operand type(s) for -: 'str' and 'int'",
       "output_type": "pyerr",
       "traceback": [
        "\u001b[0;31m---------------------------------------------------------------------------\u001b[0m\n\u001b[0;31mTypeError\u001b[0m                                 Traceback (most recent call last)",
        "\u001b[0;32m<ipython-input-8-e9fef33b82fc>\u001b[0m in \u001b[0;36m<module>\u001b[0;34m()\u001b[0m\n\u001b[1;32m      1\u001b[0m \u001b[0;31m# TypeError example 2 - you can't subtract from strings!\u001b[0m\u001b[0;34m\u001b[0m\u001b[0;34m\u001b[0m\u001b[0m\n\u001b[1;32m      2\u001b[0m \u001b[0ma\u001b[0m \u001b[0;34m=\u001b[0m \u001b[0;34m\"this is a string\"\u001b[0m\u001b[0;34m\u001b[0m\u001b[0m\n\u001b[0;32m----> 3\u001b[0;31m \u001b[0;32mprint\u001b[0m \u001b[0ma\u001b[0m \u001b[0;34m-\u001b[0m \u001b[0;36m1\u001b[0m\u001b[0;34m\u001b[0m\u001b[0m\n\u001b[0m",
        "\u001b[0;31mTypeError\u001b[0m: unsupported operand type(s) for -: 'str' and 'int'"
       ]
      }
     ],
     "prompt_number": 8
    },
    {
     "cell_type": "markdown",
     "metadata": {},
     "source": [
      "### KeyError\n",
      "\n",
      "A KeyError occurs when you attempt to index a key in a dictionary, but that key does not exist."
     ]
    },
    {
     "cell_type": "code",
     "collapsed": false,
     "input": [
      "# KeyError example\n",
      "d = {\"seven\": 7, \"nine\": 9, \"eleven\": 11}\n",
      "print d[\"five\"]"
     ],
     "language": "python",
     "metadata": {},
     "outputs": [
      {
       "ename": "KeyError",
       "evalue": "'five'",
       "output_type": "pyerr",
       "traceback": [
        "\u001b[0;31m---------------------------------------------------------------------------\u001b[0m\n\u001b[0;31mKeyError\u001b[0m                                  Traceback (most recent call last)",
        "\u001b[0;32m<ipython-input-9-628e9b0396a6>\u001b[0m in \u001b[0;36m<module>\u001b[0;34m()\u001b[0m\n\u001b[1;32m      1\u001b[0m \u001b[0;31m# KeyError example\u001b[0m\u001b[0;34m\u001b[0m\u001b[0;34m\u001b[0m\u001b[0m\n\u001b[1;32m      2\u001b[0m \u001b[0md\u001b[0m \u001b[0;34m=\u001b[0m \u001b[0;34m{\u001b[0m\u001b[0;34m\"seven\"\u001b[0m\u001b[0;34m:\u001b[0m \u001b[0;36m7\u001b[0m\u001b[0;34m,\u001b[0m \u001b[0;34m\"nine\"\u001b[0m\u001b[0;34m:\u001b[0m \u001b[0;36m9\u001b[0m\u001b[0;34m,\u001b[0m \u001b[0;34m\"eleven\"\u001b[0m\u001b[0;34m:\u001b[0m \u001b[0;36m11\u001b[0m\u001b[0;34m}\u001b[0m\u001b[0;34m\u001b[0m\u001b[0m\n\u001b[0;32m----> 3\u001b[0;31m \u001b[0;32mprint\u001b[0m \u001b[0md\u001b[0m\u001b[0;34m[\u001b[0m\u001b[0;34m\"five\"\u001b[0m\u001b[0;34m]\u001b[0m\u001b[0;34m\u001b[0m\u001b[0m\n\u001b[0m",
        "\u001b[0;31mKeyError\u001b[0m: 'five'"
       ]
      }
     ],
     "prompt_number": 9
    },
    {
     "cell_type": "markdown",
     "metadata": {},
     "source": [
      "### IndexError\n",
      "\n",
      "An IndexError occurs when you attempt to index a position from a list or string, but that index isn't in the variable."
     ]
    },
    {
     "cell_type": "code",
     "collapsed": false,
     "input": [
      "# IndexError example 1\n",
      "mylist = [11, 22, 33, 44, 55, 66]\n",
      "print mylist[9]"
     ],
     "language": "python",
     "metadata": {},
     "outputs": [
      {
       "ename": "IndexError",
       "evalue": "list index out of range",
       "output_type": "pyerr",
       "traceback": [
        "\u001b[0;31m---------------------------------------------------------------------------\u001b[0m\n\u001b[0;31mIndexError\u001b[0m                                Traceback (most recent call last)",
        "\u001b[0;32m<ipython-input-10-e895b208c4db>\u001b[0m in \u001b[0;36m<module>\u001b[0;34m()\u001b[0m\n\u001b[1;32m      1\u001b[0m \u001b[0;31m# IndexError example 1\u001b[0m\u001b[0;34m\u001b[0m\u001b[0;34m\u001b[0m\u001b[0m\n\u001b[1;32m      2\u001b[0m \u001b[0mmylist\u001b[0m \u001b[0;34m=\u001b[0m \u001b[0;34m[\u001b[0m\u001b[0;36m11\u001b[0m\u001b[0;34m,\u001b[0m \u001b[0;36m22\u001b[0m\u001b[0;34m,\u001b[0m \u001b[0;36m33\u001b[0m\u001b[0;34m,\u001b[0m \u001b[0;36m44\u001b[0m\u001b[0;34m,\u001b[0m \u001b[0;36m55\u001b[0m\u001b[0;34m,\u001b[0m \u001b[0;36m66\u001b[0m\u001b[0;34m]\u001b[0m\u001b[0;34m\u001b[0m\u001b[0m\n\u001b[0;32m----> 3\u001b[0;31m \u001b[0;32mprint\u001b[0m \u001b[0mmylist\u001b[0m\u001b[0;34m[\u001b[0m\u001b[0;36m9\u001b[0m\u001b[0;34m]\u001b[0m\u001b[0;34m\u001b[0m\u001b[0m\n\u001b[0m",
        "\u001b[0;31mIndexError\u001b[0m: list index out of range"
       ]
      }
     ],
     "prompt_number": 10
    },
    {
     "cell_type": "code",
     "collapsed": false,
     "input": [
      "# IndexError example 2\n",
      "mystring = \"This is a short string.\"\n",
      "print mystring[72]"
     ],
     "language": "python",
     "metadata": {},
     "outputs": [
      {
       "ename": "IndexError",
       "evalue": "string index out of range",
       "output_type": "pyerr",
       "traceback": [
        "\u001b[0;31m---------------------------------------------------------------------------\u001b[0m\n\u001b[0;31mIndexError\u001b[0m                                Traceback (most recent call last)",
        "\u001b[0;32m<ipython-input-11-a36f79c41a37>\u001b[0m in \u001b[0;36m<module>\u001b[0;34m()\u001b[0m\n\u001b[1;32m      1\u001b[0m \u001b[0;31m# IndexError example 2\u001b[0m\u001b[0;34m\u001b[0m\u001b[0;34m\u001b[0m\u001b[0m\n\u001b[1;32m      2\u001b[0m \u001b[0mmystring\u001b[0m \u001b[0;34m=\u001b[0m \u001b[0;34m\"This is a short string.\"\u001b[0m\u001b[0;34m\u001b[0m\u001b[0m\n\u001b[0;32m----> 3\u001b[0;31m \u001b[0;32mprint\u001b[0m \u001b[0mmystring\u001b[0m\u001b[0;34m[\u001b[0m\u001b[0;36m72\u001b[0m\u001b[0;34m]\u001b[0m\u001b[0;34m\u001b[0m\u001b[0m\n\u001b[0m",
        "\u001b[0;31mIndexError\u001b[0m: string index out of range"
       ]
      }
     ],
     "prompt_number": 11
    },
    {
     "cell_type": "markdown",
     "metadata": {},
     "source": [
      "<br><br><br>\n",
      "\n",
      "## Using `print` statements to check code\n",
      "\n",
      "Printing your code output as you write it is the **only** way to make sure that your code is doing what you think it is doing. By making sure, at each step, that your code produces the expected output, you can avoid introducing bugs and detect errors much more easily.\n",
      "\n",
      "As a general rule-of-thumb, you should not write more then 2-5 lines of code without checking that it works before proceeding!!\n"
     ]
    },
    {
     "cell_type": "markdown",
     "metadata": {},
     "source": [
      "<br><br><br>\n",
      "\n",
      "# Biopython\n",
      "\n",
      "Next, let's recap some of the Biopython we discussed in lecture yesterday."
     ]
    },
    {
     "cell_type": "markdown",
     "metadata": {},
     "source": [
      "To query NCBI, we use the function `Entrez.efetch()`. This function takes four *keyword* arguments:\n",
      "\n",
      "+ `db`, the NCBI database we want to query\n",
      "+ `id`, an ID for the sequence that NCBI recognizes. This is can be in *many* different formats\n",
      "+ `rettype`, the format to return (we want to keep the native \"genbank\", or \"gb\", format)\n",
      "+ `retmode`, the type of output to return (either text or xml, and we never want xml!)\n",
      "\n",
      "This function returns a **handle** of the information it just queried. Don't worry about what a handle is - just know that we can't use it in its current form! We need to convert this handle into something that we can interact with properly. (Note that if python can't connect to the NCBI server, you'll receive an `IOError`. If this happens, try again and make sure you have internet!)\n",
      "\n",
      "In this circumstance, we can get usable information from this handle with the `SeqIO` function, `SeqIO.read()`. This function parses and reads in either a sequence handle or a sequence file. This function takes two arguments: `SeqIO.read(<handle or file name>, <format>)`. The `format` argument is the sequence format which, in this case, is \"genbank\"."
     ]
    },
    {
     "cell_type": "code",
     "collapsed": false,
     "input": [
      "# Import the required components of BioPython\n",
      "# Entrez allows us to collect data from NCBI\n",
      "# SeqIO allows us to input and output sequence files\n",
      "from Bio import Entrez, SeqIO\n",
      "\n",
      "Entrez.email = \"stephanie.spielman@utexas.edu\" # define email to keep the NIH happy\n",
      "\n",
      "# NCBI ID for human hemoglobin\n",
      "hemo_id = \"NM_000558.4\"\n",
      "\n",
      "# Fetch a record from NCBI\n",
      "hemo_handle = Entrez.efetch(db=\"nucleotide\", id=hemo_id, rettype=\"gb\", retmode=\"text\")\n",
      "\n",
      "# Print the hemo_handle - see? It's pretty useless for us\n",
      "print hemo_handle"
     ],
     "language": "python",
     "metadata": {},
     "outputs": [
      {
       "output_type": "stream",
       "stream": "stdout",
       "text": [
        "<addinfourl at 4374579320 whose fp = <socket._fileobject object at 0x104c515d0>>\n"
       ]
      }
     ],
     "prompt_number": 12
    },
    {
     "cell_type": "code",
     "collapsed": false,
     "input": [
      "# Parse the handle\n",
      "hemo_record = SeqIO.read(hemo_handle, \"genbank\")\n",
      "\n",
      "# Use a print statement (!!!) to make sure we actually fetched the record properly\n",
      "print hemo_record"
     ],
     "language": "python",
     "metadata": {},
     "outputs": [
      {
       "output_type": "stream",
       "stream": "stdout",
       "text": [
        "ID: NM_000558.4\n",
        "Name: NM_000558\n",
        "Description: Homo sapiens hemoglobin, alpha 1 (HBA1), mRNA.\n",
        "Number of features: 16\n",
        "/comment=REVIEWED REFSEQ: This record has been curated by NCBI staff. The\n",
        "reference sequence was derived from Z84721.1, BC101846.1 and\n",
        "AI064720.1.\n",
        "On Aug 9, 2014 this sequence version replaced gi:14456711.\n",
        "Summary: The human alpha globin gene cluster located on chromosome\n",
        "16 spans about 30 kb and includes seven loci: 5'- zeta - pseudozeta\n",
        "- mu - pseudoalpha-1 - alpha-2 - alpha-1 - theta - 3'. The alpha-2\n",
        "(HBA2) and alpha-1 (HBA1) coding sequences are identical. These\n",
        "genes differ slightly over the 5' untranslated regions and the\n",
        "introns, but they differ significantly over the 3' untranslated\n",
        "regions. Two alpha chains plus two beta chains constitute HbA,\n",
        "which in normal adult life comprises about 97% of the total\n",
        "hemoglobin; alpha chains combine with delta chains to constitute\n",
        "HbA-2, which with HbF (fetal hemoglobin) makes up the remaining 3%\n",
        "of adult hemoglobin. Alpha thalassemias result from deletions of\n",
        "each of the alpha genes as well as deletions of both HBA2 and HBA1;\n",
        "some nondeletion alpha thalassemias have also been reported.\n",
        "[provided by RefSeq, Jul 2008].\n",
        "Publication Note:  This RefSeq record includes a subset of the\n",
        "publications that are available for this gene. Please see the Gene\n",
        "record to access additional publications.\n",
        "##Evidence-Data-START##\n",
        "Transcript exon combination :: AK223392.1, CB994937.1 [ECO:0000332]\n",
        "RNAseq introns              :: single sample supports all introns\n",
        "                               SAMEA1965299, SAMEA1966682\n",
        "                               [ECO:0000348]\n",
        "##Evidence-Data-END##\n",
        "COMPLETENESS: full length.\n",
        "/sequence_version=4\n",
        "/source=Homo sapiens (human)\n",
        "/taxonomy=['Eukaryota', 'Metazoa', 'Chordata', 'Craniata', 'Vertebrata', 'Euteleostomi', 'Mammalia', 'Eutheria', 'Euarchontoglires', 'Primates', 'Haplorrhini', 'Catarrhini', 'Hominidae', 'Homo']\n",
        "/keywords=['RefSeq']\n",
        "/references=[Reference(title='Variable genotype-phenotype correlations in patients with a rare nondeletional alpha-thalassemia; Hb Pak Num Po (HBA1: c.396_397insT)', ...), Reference(title='Interaction of hemoglobin Grey Lynn (Vientiane) with a non-deletional alpha(+)-thalassemia in an adult Thai proband', ...), Reference(title='Clinical presentation and molecular identification of four uncommon alpha globin variants in Thailand. Initiation codon mutation of alpha2-globin Gene (HBA2:c.1delA), donor splice site mutation of alpha1-globin gene (IVSI-1, HBA1:c.95 + 1G>A), hemoglobin Queens Park/Chao Pra Ya (HBA1:c.98T>A) and hemoglobin Westmead (HBA2:c.369C>G)', ...), Reference(title='Prevalence and genetic analysis of alpha-thalassemia and beta-thalassemia in Chongqing area of China', ...), Reference(title='Identification and characterization of two novel and differentially expressed isoforms of human alpha2- and alpha1-globin genes', ...), Reference(title='Alpha-Thalassemia', ...), Reference(title='Hemoglobin Moabit: alpha 86 (F7) Leu leads to Arg: a new unstable abnormal hemoglobin', ...), Reference(title='Hemoglobin J Rovigo (alpha53 Ala replaced by Asp) in association with beta-thalassemia', ...), Reference(title=\"The nucleotide sequences of the untranslated 5' regions of human alpha- and beta-globin mRNAs\", ...), Reference(title='Haemoglobin G Norfolk alpha 85 (F6) Asp leads to Asn. Structural characterization by sequenator analysis and functional properties of a new variant with high oxygen affinity', ...)]\n",
        "/accessions=['NM_000558']\n",
        "/data_file_division=PRI\n",
        "/date=15-MAR-2015\n",
        "/organism=Homo sapiens\n",
        "/gi=672228742\n",
        "Seq('CATAAACCCTGGCGCGCTCGCGGCCCGGCACTCTTCTGGTCCCCACAGACTCAG...AAA', IUPACAmbiguousDNA())\n"
       ]
      }
     ],
     "prompt_number": 13
    },
    {
     "cell_type": "markdown",
     "metadata": {},
     "source": [
      "The function `dir()` is very useful for finding out what types of functions, or methods/attributes, can be used with a particular variable. We can use this function on the `hemo_record` variable to see what sort of information it contains. NOTE: at this stage, you should *ignore* all methods/attributes which around surrounded by underscores!! "
     ]
    },
    {
     "cell_type": "code",
     "collapsed": false,
     "input": [
      "# See what we can do with this variable\n",
      "print dir(hemo_record)"
     ],
     "language": "python",
     "metadata": {},
     "outputs": [
      {
       "output_type": "stream",
       "stream": "stdout",
       "text": [
        "['__add__', '__bool__', '__class__', '__contains__', '__delattr__', '__dict__', '__doc__', '__format__', '__getattribute__', '__getitem__', '__hash__', '__init__', '__iter__', '__len__', '__module__', '__new__', '__nonzero__', '__radd__', '__reduce__', '__reduce_ex__', '__repr__', '__setattr__', '__sizeof__', '__str__', '__subclasshook__', '__weakref__', '_per_letter_annotations', '_seq', '_set_per_letter_annotations', '_set_seq', 'annotations', 'dbxrefs', 'description', 'features', 'format', 'id', 'letter_annotations', 'lower', 'name', 'reverse_complement', 'seq', 'upper']\n"
       ]
      }
     ],
     "prompt_number": 14
    },
    {
     "cell_type": "code",
     "collapsed": false,
     "input": [
      "# Try some out!\n",
      "print \"The name is\", hemo_record.name, \"\\n\"\n",
      "print \"The seq is\", hemo_record.seq, \"\\n\"\n",
      "print \"The descrition is\", hemo_record.description, \"\\n\""
     ],
     "language": "python",
     "metadata": {},
     "outputs": [
      {
       "output_type": "stream",
       "stream": "stdout",
       "text": [
        "The name is NM_000558 \n",
        "\n",
        "The seq is CATAAACCCTGGCGCGCTCGCGGCCCGGCACTCTTCTGGTCCCCACAGACTCAGAGAGAACCCACCATGGTGCTGTCTCCTGCCGACAAGACCAACGTCAAGGCCGCCTGGGGTAAGGTCGGCGCGCACGCTGGCGAGTATGGTGCGGAGGCCCTGGAGAGGATGTTCCTGTCCTTCCCCACCACCAAGACCTACTTCCCGCACTTCGACCTGAGCCACGGCTCTGCCCAGGTTAAGGGCCACGGCAAGAAGGTGGCCGACGCGCTGACCAACGCCGTGGCGCACGTGGACGACATGCCCAACGCGCTGTCCGCCCTGAGCGACCTGCACGCGCACAAGCTTCGGGTGGACCCGGTCAACTTCAAGCTCCTAAGCCACTGCCTGCTGGTGACCCTGGCCGCCCACCTCCCCGCCGAGTTCACCCCTGCGGTGCACGCCTCCCTGGACAAGTTCCTGGCTTCTGTGAGCACCGTGCTGACCTCCAAATACCGTTAAGCTGGAGCCTCGGTGGCCATGCTTCTTGCCCCTTGGGCCTCCCCCCAGCCCCTCCTCCCCTTCCTGCACCCGTACCCCCGTGGTCTTTGAATAAAGTCTGAGTGGGCGGCAAAAAAAAAAAAAAAAAAAAAA \n",
        "\n",
        "The descrition is Homo sapiens hemoglobin, alpha 1 (HBA1), mRNA. \n",
        "\n"
       ]
      }
     ],
     "prompt_number": 15
    },
    {
     "cell_type": "markdown",
     "metadata": {},
     "source": [
      "We can also save this hemoglobin NCBI record to a file for future use. This way, we don't have to query NCBI everytime we want to access the hemoglobin record. To keep this information in a file, we use the function `SeqIO.write()`. This function takes **three** arguments: `SeqIO.write(<record name>, <file name to save record in>, <format>)`. Again, for now, we will use the \"genbank\" format. \n",
      "\n",
      "Imporant! If the file name you provide does not already exist, python will create it for you. If a file of that name does already exist, the file with be **overwritten**, and anything that used to be in that file will be gone and replaced with hemoglobin!!"
     ]
    },
    {
     "cell_type": "code",
     "collapsed": false,
     "input": [
      "# Save hemoglobin to file. You can ignore the output this line produces\n",
      "SeqIO.write(hemo_record, \"hemoglobin_nucleotide.txt\", \"genbank\")"
     ],
     "language": "python",
     "metadata": {},
     "outputs": [
      {
       "metadata": {},
       "output_type": "pyout",
       "prompt_number": 16,
       "text": [
        "1"
       ]
      }
     ],
     "prompt_number": 16
    },
    {
     "cell_type": "markdown",
     "metadata": {},
     "source": [
      "### Using a for-loop to collect lots of sequence records from NCBI\n",
      "\n",
      "Above, we asked NCBI for a single ID, human hemoglobin. What if, however, we have 1000 IDs? It would be awful to type out this kind of kind for each of those 1000 IDs. We can automate this process with a for-loop!\n",
      "\n",
      "As an example, code is given below which loops over a list of 5 NCBI IDs, collected from a BLAST search of the human hemoglobin gene. The code fetches each record from NCBI and saves its sequence in a dictionary."
     ]
    },
    {
     "cell_type": "code",
     "collapsed": false,
     "input": [
      "# Lots of IDs, collected from running BLAST over the human hemoglobin sequence\n",
      "blast_ids = ['NM_000558.4', 'XM_010381857.1', 'NM_000517.4', 'XM_007979843.1', 'NM_001042626.1']\n",
      "\n",
      "\n",
      "seq_dict = {}\n",
      "for id in blast_ids:\n",
      "    \n",
      "    # Fetch record\n",
      "    handle = Entrez.efetch(db=\"nucleotide\", id=id, rettype=\"gb\", retmode=\"text\")\n",
      "    record = SeqIO.read(handle, \"genbank\")\n",
      "    \n",
      "    # Extract sequence\n",
      "    sequence = record.seq  # This is a BioPython Seq object! We can convert it to a string for saving\n",
      "\n",
      "    # Save sequence to dictionary, with its ID as the key\n",
      "    seq_dict[id] = sequence\n",
      "\n",
      "print seq_dict"
     ],
     "language": "python",
     "metadata": {},
     "outputs": [
      {
       "output_type": "stream",
       "stream": "stdout",
       "text": [
        "{'NM_001042626.1': Seq('ACTCTTCTGGTCCCCACAGACTCAGAAAGAACCCACCATGGTGCTGTCTCCTGC...GGC', IUPACAmbiguousDNA()), 'NM_000517.4': Seq('CATAAACCCTGGCGCGCTCGCGGGCCGGCACTCTTCTGGTCCCCACAGACTCAG...AAA', IUPACAmbiguousDNA()), 'XM_010381857.1': Seq('GCCTGGCGCGCTCGCGGCCCGGCACTCTTCTGGTCCCCACAGACTCAGGAAGAA...GCA', IUPACAmbiguousDNA()), 'NM_000558.4': Seq('CATAAACCCTGGCGCGCTCGCGGCCCGGCACTCTTCTGGTCCCCACAGACTCAG...AAA', IUPACAmbiguousDNA()), 'XM_007979843.1': Seq('ATGAGCACCGCCCTGCCGGGCGTGCCCCCGCGCCCGGAGCATAAACCCTGGCGC...GCA', IUPACAmbiguousDNA())}\n"
       ]
      }
     ],
     "prompt_number": 17
    },
    {
     "cell_type": "markdown",
     "metadata": {},
     "source": [
      "That looks strange, doesn't it? The values in this dictionary are actually Biopython Seq objects. These objects hold the sequence itself as well as what type of alphabet it is (DNA, RNA, protein, etc.). \n",
      "\n",
      "To save the sequences as strings, simply redefine `sequence` as a string:"
     ]
    },
    {
     "cell_type": "code",
     "collapsed": false,
     "input": [
      "blast_ids = ['NM_000558.4', 'XM_010381857.1', 'NM_000517.4', 'XM_007979843.1', 'NM_001042626.1']\n",
      "\n",
      "seq_dict = {}\n",
      "for id in blast_ids:\n",
      "    \n",
      "    # Fetch record\n",
      "    handle = Entrez.efetch(db=\"nucleotide\", id=id, rettype=\"gb\", retmode=\"text\")\n",
      "    record = SeqIO.read(handle, \"genbank\")\n",
      "    \n",
      "    # !!!! Extract sequence, but convert to a string this time!!!!!\n",
      "    sequence = str( record.seq )\n",
      "    \n",
      "    # Save sequence to dictionary, with its ID as the key\n",
      "    seq_dict[id] = sequence\n",
      "\n",
      "print seq_dict"
     ],
     "language": "python",
     "metadata": {},
     "outputs": [
      {
       "output_type": "stream",
       "stream": "stdout",
       "text": [
        "{'NM_001042626.1': 'ACTCTTCTGGTCCCCACAGACTCAGAAAGAACCCACCATGGTGCTGTCTCCTGCCGACAAGACCAACGTCAAGGCCGCCTGGGGTAAGGTCGGCGCGCACGCTGGCGAGTATGGTGCGGAGGCCCTGGAGAGGATGTTCCTGTCCTTCCCCACCACCAAGACCTACTTCCCCCACTTCGACCTGAGCCACGGCTCTGCCCAGGTTAAGGGTCACGGCAAGAAGGTGGCCGACGCGCTGACCAACGCCGTGGCGCACGTGGACGACATGCCCAACGCGCTGTCCGCCCTGAGTGACCTGCACGCGCACAAGCTTCGGGTGGACCCGGTCAACTTCAAGCTCCTAAGCCACTGCCTGCTGGTGACCCTGGCCGCCCACCTCCCCGCCGAGTTCACCCCTGCGGTGCACGCCTCCCTGGACAAGTTCCTGGCTTCTGTGAGCACCGTGCTGACCTCCAAATACCGTTAAGCTGGAGCCTCGGTGGCCATGCTTCTTGCCCCTTGGGCCTCTCGCCAGGCCCTCCTCTCCTTCCTGCACCTGTACCCCCCCTGGTCTTTGAATAAAGTCTGAGTGGGCGGC', 'NM_000517.4': 'CATAAACCCTGGCGCGCTCGCGGGCCGGCACTCTTCTGGTCCCCACAGACTCAGAGAGAACCCACCATGGTGCTGTCTCCTGCCGACAAGACCAACGTCAAGGCCGCCTGGGGTAAGGTCGGCGCGCACGCTGGCGAGTATGGTGCGGAGGCCCTGGAGAGGATGTTCCTGTCCTTCCCCACCACCAAGACCTACTTCCCGCACTTCGACCTGAGCCACGGCTCTGCCCAGGTTAAGGGCCACGGCAAGAAGGTGGCCGACGCGCTGACCAACGCCGTGGCGCACGTGGACGACATGCCCAACGCGCTGTCCGCCCTGAGCGACCTGCACGCGCACAAGCTTCGGGTGGACCCGGTCAACTTCAAGCTCCTAAGCCACTGCCTGCTGGTGACCCTGGCCGCCCACCTCCCCGCCGAGTTCACCCCTGCGGTGCACGCCTCCCTGGACAAGTTCCTGGCTTCTGTGAGCACCGTGCTGACCTCCAAATACCGTTAAGCTGGAGCCTCGGTAGCCGTTCCTCCTGCCCGCTGGGCCTCCCAACGGGCCCTCCTCCCCTCCTTGCACCGGCCCTTCCTGGTCTTTGAATAAAGTCTGAGTGGGCAGCAAAAAAAAAAAAAAAAAA', 'XM_010381857.1': 'GCCTGGCGCGCTCGCGGCCCGGCACTCTTCTGGTCCCCACAGACTCAGGAAGAACCCACCATGGTGCTGTCTCCTGCCGACAAGACCAACGTCAAGGCCGCCTGGGGTAAGGTCGGCGGGCACGGTGGCGAGTATGGTGCGGAGGCCCTGGAGAGGATGTTCCTGTCCTTCCCCACCACCAAGACCTACTTCCCCCACTTCGACCTGAGCCACGGCTCTGCCCAGGTTAAGGGCCACGGCAAGAAGGTGGCCGACGCGCTGACCAACGCCGTGGCGCACGTGGACGACATGCCCAACGCGCTGTCCGCGCTGAGCGACCTGCACGCGCACAAGCTTCGGGTGGACCCGGTCAACTTCAAGCTCCTGAGCCACTGCCTGCTGGTGACTCTGGCCGCTCACCTCCCCGCCGAGTTCACCCCTGCGGTGCACGCCTCCCTGGACAAGTTCCTGGCTTCTGTGAGCACCGTGCTGACCTCCAAATACCGTTAAGCTGAGCCTCGGTGGCCATGCTTCTTGCCCCTTGGGCCTCCCGCCAGGCCCTCCTCCCCTTCCTGCACCCGTACCCCCTGGTCTTTGAATAAAGTCTGAGTGGGCGGCA', 'NM_000558.4': 'CATAAACCCTGGCGCGCTCGCGGCCCGGCACTCTTCTGGTCCCCACAGACTCAGAGAGAACCCACCATGGTGCTGTCTCCTGCCGACAAGACCAACGTCAAGGCCGCCTGGGGTAAGGTCGGCGCGCACGCTGGCGAGTATGGTGCGGAGGCCCTGGAGAGGATGTTCCTGTCCTTCCCCACCACCAAGACCTACTTCCCGCACTTCGACCTGAGCCACGGCTCTGCCCAGGTTAAGGGCCACGGCAAGAAGGTGGCCGACGCGCTGACCAACGCCGTGGCGCACGTGGACGACATGCCCAACGCGCTGTCCGCCCTGAGCGACCTGCACGCGCACAAGCTTCGGGTGGACCCGGTCAACTTCAAGCTCCTAAGCCACTGCCTGCTGGTGACCCTGGCCGCCCACCTCCCCGCCGAGTTCACCCCTGCGGTGCACGCCTCCCTGGACAAGTTCCTGGCTTCTGTGAGCACCGTGCTGACCTCCAAATACCGTTAAGCTGGAGCCTCGGTGGCCATGCTTCTTGCCCCTTGGGCCTCCCCCCAGCCCCTCCTCCCCTTCCTGCACCCGTACCCCCGTGGTCTTTGAATAAAGTCTGAGTGGGCGGCAAAAAAAAAAAAAAAAAAAAAA', 'XM_007979843.1': 'ATGAGCACCGCCCTGCCGGGCGTGCCCCCGCGCCCGGAGCATAAACCCTGGCGCGCTCGCGGCCCCGCACTCTTCTGGTCCCCACAGACTCAGAAAGAACCCACCATGGTGCTGTCTCCTGCCGACAAGAGCAACGTCAAGGCCGCCTGGGGTAAGGTCGGCGGCCACGCCGGCGAGTATGGTGCGGAGGCCCTGGAGAGGATGTTCCTGTCCTTCCCCACCACCAAGACCTACTTCCCCCACTTCGACCTGAGCCACGGCTCTGCCCAGGTTAAGGGCCACGGCAAGAAGGTGGCCGACGCGCTGACCCTCGCCGTGGGGCACGTGGACGACATGCCCCACGCGCTGTCCGCGCTGAGCGACCTGCACGCTCACAAGCTTCGGGTGGACCCGGTCAACTTCAAGCTCCTGAGCCACTGCCTGCTGGTGACTCTGGCCGCCCACCTCCCCGCCGAGTTCACCCCTGCGGTGCACGCCTCCCTGGACAAGTTCCTGGCTTCTGTGAGCACCGTGCTGACCTCCAAATACCGTTAAGCTGGAGCCTCGGTGGCCATGCTTCTTGCCCCTTGGGCCTCCCGCCAGGCCCTCCTCCCCTTCCTGCTCCCGTACCCCCTGGTCTTTGAATAAAGTCTGAGTGGGCGGCA'}\n"
       ]
      }
     ],
     "prompt_number": 18
    },
    {
     "cell_type": "markdown",
     "metadata": {},
     "source": [
      "Much better! Now we are actually saving the sequences themselves.\n",
      "\n",
      "Now, time-permitting, write another for-loop which creates *two* dictionaries: one that stores the nucleotide sequences as values (just as the code above!), and one that stores the translated sequences (as in, the nucleotide sequences converted to amino acids) as values."
     ]
    }
   ],
   "metadata": {}
  }
 ]
}