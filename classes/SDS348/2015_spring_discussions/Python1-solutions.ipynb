{
 "metadata": {
  "name": "",
  "signature": "sha256:ab7163fe4ad627d9cd924217998f0c17f429011151f451e2f7beb9b93c011179"
 },
 "nbformat": 3,
 "nbformat_minor": 0,
 "worksheets": [
  {
   "cells": [
    {
     "cell_type": "heading",
     "level": 4,
     "metadata": {},
     "source": [
      "Complete the following tasks in python. You may do them either from the ipython command line (qt-console) or by creating code chunks within this iPython document. Be sure to use plenty of print statements to make sure that your code is performing as you expect!!\n",
      "<br><br><br>"
     ]
    },
    {
     "cell_type": "markdown",
     "metadata": {},
     "source": [
      "**Working with strings**\n",
      "\n",
      "Define a variable called `mystring`, which contains a lengthy string of some kind (random letters, your address, song lyrics, a haiku, whatever). Perform the following tasks with this variable:\n",
      "\n",
      " 1. Without redefining `mystring`, replace the all occurrences of a letter of your choice with the number 6. Use a single string method for this task. \n",
      " 2. *Redefine* `mystring` such that only the first 3 occurrences of this letter are replaced. Use a single string method for this task. \n",
      " 3. Use indexing to replace the character in the 5th position of `mystring` with the letter \"X\". How did that go? \n",
      " 4.  Use the `.split()` method to split your string into a list. Do this twice, the first time using a character that *is* in your string and the second time using a character that is *not present* in your string. Think about why the resulting output looks the way it does.\n",
      " 5. Create a new variable called `complete_string` which contains the phrase \"Here is my string: \" followed by the contents of your `mystring` variable. (Hint - use the `+` operator). For example, if your `mystring` variable contains the text \"time flies like an arrow; fruit flies like a banana\", then `complete_string` should read, \"Here is my string: time flies like an arrow; fruit flies like a banana\".\n"
     ]
    },
    {
     "cell_type": "code",
     "collapsed": false,
     "input": [
      "# define mystring\n",
      "mystring = \"Python is a really fun computing language, and I enjoy using it so much! Can we learn more python pleasejQuery20309380043155979365_1426042387438 Pretty please??\"\n",
      "\n",
      "# Replace \"a\" with \"6\"\n",
      "mystring.replace(\"a\", \"6\")\n"
     ],
     "language": "python",
     "metadata": {},
     "outputs": [
      {
       "metadata": {},
       "output_type": "pyout",
       "prompt_number": 4,
       "text": [
        "'Python 6s a really fun comput6ng language, and I enjoy us6ng 6t so much! Can we learn more python please?? Pretty please??'"
       ]
      }
     ],
     "prompt_number": 4
    },
    {
     "cell_type": "code",
     "collapsed": false,
     "input": [
      "# redefine mystring with the first 3 occurrences of \"a\" with \"6\"\n",
      "mystring = mystring.replace(\"a\", \"6\", 3)\n",
      "print mystring"
     ],
     "language": "python",
     "metadata": {},
     "outputs": [
      {
       "output_type": "stream",
       "stream": "stdout",
       "text": [
        "Python is 6 re6lly fun computing l6nguage, and I enjoy using it so much! Can we learn more python please?? Pretty please??\n"
       ]
      }
     ],
     "prompt_number": 5
    },
    {
     "cell_type": "code",
     "collapsed": false,
     "input": [
      "# replace the fifth position with \"X\". womp womp\n",
      "mystring[4] = \"X\" "
     ],
     "language": "python",
     "metadata": {},
     "outputs": [
      {
       "ename": "TypeError",
       "evalue": "'str' object does not support item assignment",
       "output_type": "pyerr",
       "traceback": [
        "\u001b[0;31m---------------------------------------------------------------------------\u001b[0m\n\u001b[0;31mTypeError\u001b[0m                                 Traceback (most recent call last)",
        "\u001b[0;32m<ipython-input-24-33a6f0cce2ca>\u001b[0m in \u001b[0;36m<module>\u001b[0;34m()\u001b[0m\n\u001b[1;32m      1\u001b[0m \u001b[0;31m# replace the fifth position with \"X\". womp womp!!\u001b[0m\u001b[0;34m\u001b[0m\u001b[0;34m\u001b[0m\u001b[0m\n\u001b[0;32m----> 2\u001b[0;31m \u001b[0mmystring\u001b[0m\u001b[0;34m[\u001b[0m\u001b[0;36m4\u001b[0m\u001b[0;34m]\u001b[0m \u001b[0;34m=\u001b[0m \u001b[0;34m\"X\"\u001b[0m\u001b[0;34m\u001b[0m\u001b[0m\n\u001b[0m",
        "\u001b[0;31mTypeError\u001b[0m: 'str' object does not support item assignment"
       ]
      }
     ],
     "prompt_number": 24
    },
    {
     "cell_type": "code",
     "collapsed": false,
     "input": [
      "# split the string on \"i\"\n",
      "print mystring.split(\"i\")\n",
      "\n",
      "# split the string on \"w\"\n",
      "print mystring.split(\"z\")"
     ],
     "language": "python",
     "metadata": {},
     "outputs": [
      {
       "output_type": "stream",
       "stream": "stdout",
       "text": [
        "['Python ', 's 6 re6lly fun comput', 'ng l6nguage, and I enjoy us', 'ng ', 't so much! Can we learn more python please?? Pretty please??']\n",
        "['Python is 6 re6lly fun computing l6nguage, and I enjoy using it so much! Can we learn more python please?? Pretty please??']\n"
       ]
      }
     ],
     "prompt_number": 9
    },
    {
     "cell_type": "code",
     "collapsed": false,
     "input": [
      "# create complete_string\n",
      "complete_string = \"Here is my string: \" + mystring\n",
      "print complete_string"
     ],
     "language": "python",
     "metadata": {},
     "outputs": [
      {
       "output_type": "stream",
       "stream": "stdout",
       "text": [
        "Here is my string: Python is 6 re6lly fun computing l6nguage, and I enjoy using it so much! Can we learn more python please?? Pretty please??\n"
       ]
      }
     ],
     "prompt_number": 10
    },
    {
     "cell_type": "markdown",
     "metadata": {},
     "source": [
      "<br><br>\n",
      "**Working with lists**\n",
      "\n",
      "Define a list variable called `animals` which contains the following 6 entries: \"monkey\", \"giraffe\", \"shark\", \"caterpillar\", \"squid\", and \"jellyfish\". Perform the following tasks with this variable:\n",
      "\n",
      " 1. Use the list method `.append()` to add \"spider\" to the end of the list.\n",
      " 2. Use the list method `.insert()` to add \"ctenophore\" to the end of the list. Try to incorporate the `len()` function as part of this code.\n",
      " 3. Use the list method `.append()` to add another \"monkey\" to the end of the list. Next, use the list method `.index()` to remove determine in which list position \"monkey\" is. What does your answer tell you about the behavior of the `.index()` method? \n",
      " 4. Use indexing to change the 2nd animal in the list to \"cat\". \n",
      " 5. Enter the command `help(join)` (or google the phrase \"python join\") to read about this string method. The string method `.join()` takes a single argument, a list of strings, and joins them together using the string on which join acts as a separator. It is, in effect, the *opposite* of the string method `.split()`. Use the `.join()` method to create a string which contains each animal in the `animals` list separated by the string \"; \" (semicolon and a space).\n",
      " 6. Create a second list called `plants` which contains the entries \"tree\", \"flower\", \"bush\", and \"grass\". Next, create another list called `organisms`, in which the first entry is the `animals` list and the second entry is the `plants` list. This is a \"list of lists\" (nested list). Use the `len()` function to determine the size of the `organisms` list. Is it what you expected? Why or why not?\n",
      " 7. Now, from this nested list, use indexing to create yet another list which contains *two* entries: the third entry from the `animals` list within `organisms` and the second entry from the `plants` list within `organisms`.\n",
      "  "
     ]
    },
    {
     "cell_type": "code",
     "collapsed": false,
     "input": [
      "# define animals\n",
      "animals = [\"monkey\", \"giraffe\", \"shark\", \"caterpillar\", \"squid\", \"jellyfish\"]"
     ],
     "language": "python",
     "metadata": {},
     "outputs": [],
     "prompt_number": 25
    },
    {
     "cell_type": "code",
     "collapsed": false,
     "input": [
      "# append spider\n",
      "animals.append(\"spider\")\n",
      "print \"appending spider:\", animals"
     ],
     "language": "python",
     "metadata": {},
     "outputs": [
      {
       "output_type": "stream",
       "stream": "stdout",
       "text": [
        "appending spider: ['monkey', 'giraffe', 'shark', 'caterpillar', 'squid', 'jellyfish', 'spider']\n"
       ]
      }
     ],
     "prompt_number": 26
    },
    {
     "cell_type": "code",
     "collapsed": false,
     "input": [
      "# insert ctenophore to end of list\n",
      "animals.insert(len(animals), \"ctenophore\")\n",
      "print \"inserting ctenophore:\",animals"
     ],
     "language": "python",
     "metadata": {},
     "outputs": [
      {
       "output_type": "stream",
       "stream": "stdout",
       "text": [
        "inserting ctenophore: ['monkey', 'giraffe', 'shark', 'caterpillar', 'squid', 'jellyfish', 'spider', 'ctenophore']\n"
       ]
      }
     ],
     "prompt_number": 27
    },
    {
     "cell_type": "code",
     "collapsed": false,
     "input": [
      "# append monkey\n",
      "animals.append(\"monkey\")\n",
      "print \"the monkey index is\", animals.index(\"monkey\") # .index() will return the index of the *first* occurrence!"
     ],
     "language": "python",
     "metadata": {},
     "outputs": [
      {
       "output_type": "stream",
       "stream": "stdout",
       "text": [
        "the monkey index is 0\n"
       ]
      }
     ],
     "prompt_number": 28
    },
    {
     "cell_type": "code",
     "collapsed": false,
     "input": [
      "# join with \"; \"\n",
      "print \"; \".join(animals)"
     ],
     "language": "python",
     "metadata": {},
     "outputs": [
      {
       "output_type": "stream",
       "stream": "stdout",
       "text": [
        "monkey; giraffe; shark; caterpillar; squid; jellyfish; spider; ctenophore; monkey\n"
       ]
      }
     ],
     "prompt_number": 29
    },
    {
     "cell_type": "code",
     "collapsed": false,
     "input": [
      "# create plants\n",
      "plants = [\"tree\", \"flower\", \"bush\", \"grass\"]\n",
      "organisms = [animals, plants]\n",
      "print \"the organisms list is\", len(organisms), \"long\""
     ],
     "language": "python",
     "metadata": {},
     "outputs": [
      {
       "output_type": "stream",
       "stream": "stdout",
       "text": [
        "the organisms list is 2 long\n"
       ]
      }
     ],
     "prompt_number": 30
    },
    {
     "cell_type": "code",
     "collapsed": false,
     "input": [
      "# indexing the list of lists\n",
      "print \"indexing is great! see?? :\", [ organisms[0][2], organisms[1][1]]"
     ],
     "language": "python",
     "metadata": {},
     "outputs": [
      {
       "output_type": "stream",
       "stream": "stdout",
       "text": [
        "indexing is great! see?? : ['shark', 'flower']\n"
       ]
      }
     ],
     "prompt_number": 31
    },
    {
     "cell_type": "markdown",
     "metadata": {},
     "source": [
      "<br><br>\n",
      "**Working with dictionaries**\n",
      "\n",
      " Create a dictionary called `molecules` with the following three key-value pairs: \"DNA\" - \"nucleotides\"; \"protein\" - \"amino acids\"; and \"hair\" -\"keratin\". Perform the following tasks with this variable:\n",
      " \n",
      " 1. Print out the dictionary and examine the order of the key-value pairs. Is this what you expected? \n",
      " 2. Use indexing to select the 2nd key-value pair from the dictionary. Did this work? Now try to index the value for \"DNA\".\n",
      " 3. Create two lists, called `molecules_keys` and `molecules_values`, containing, respectively, the keys and values in this dictionary. **Do not** manually create these lists; instead, use the dictionary methods `.keys()` and `.values()` to create them.\n",
      " 4. Using your two new lists, create a list of *tuples*, which in each tuple is the (key, value) pair. Use the `zip()` function for this (you may need to look this function up!). Save this list of tuples to a variable. Use the function `type()` in conjuction with the logical operator `is` (or `==`) to confirm that this indeed created a list, and that the first entry in the list is indeed a tuple.\n",
      " 5. Now, re-cast the list of tuples into a dictionary.\n",
      " 6. Add another key-value pair, \"ribosomes\"-\"RNA\", to the `molecules` dictionary. Now, add another key-value pair, \"RNA\" - \"nucleotides\". Did this work? What does this tell you about the \"allowed uniqueness\" for dictionary keys and values? Now, add yet another key-value pair, \"ribosomes\"-\"rRNA\" to the `molecules` dictionary. What happened? Can you see why? \n"
     ]
    },
    {
     "cell_type": "code",
     "collapsed": false,
     "input": [
      "# create dictionary\n",
      "molecules = {\"DNA\":\"nucleotides\", \"protein\":\"amino acids\", \"hair\":\"keratin\"}\n",
      "print molecules # woah, weird order!"
     ],
     "language": "python",
     "metadata": {},
     "outputs": [
      {
       "output_type": "stream",
       "stream": "stdout",
       "text": [
        "{'hair': 'keratin', 'protein': 'amino acids', 'DNA': 'nucleotides'}\n"
       ]
      }
     ],
     "prompt_number": 50
    },
    {
     "cell_type": "code",
     "collapsed": false,
     "input": [
      "# index the 2nd key-value pair. womp womp!\n",
      "print molecules[1]"
     ],
     "language": "python",
     "metadata": {},
     "outputs": [
      {
       "ename": "KeyError",
       "evalue": "1",
       "output_type": "pyerr",
       "traceback": [
        "\u001b[0;31m---------------------------------------------------------------------------\u001b[0m\n\u001b[0;31mKeyError\u001b[0m                                  Traceback (most recent call last)",
        "\u001b[0;32m<ipython-input-51-1666b957eb54>\u001b[0m in \u001b[0;36m<module>\u001b[0;34m()\u001b[0m\n\u001b[1;32m      1\u001b[0m \u001b[0;31m# index the 2nd key-value pair. womp womp!\u001b[0m\u001b[0;34m\u001b[0m\u001b[0;34m\u001b[0m\u001b[0m\n\u001b[0;32m----> 2\u001b[0;31m \u001b[0;32mprint\u001b[0m \u001b[0mmolecules\u001b[0m\u001b[0;34m[\u001b[0m\u001b[0;36m1\u001b[0m\u001b[0;34m]\u001b[0m\u001b[0;34m\u001b[0m\u001b[0m\n\u001b[0m",
        "\u001b[0;31mKeyError\u001b[0m: 1"
       ]
      }
     ],
     "prompt_number": 51
    },
    {
     "cell_type": "code",
     "collapsed": false,
     "input": [
      "# index DNA\n",
      "print molecules[\"DNA\"]"
     ],
     "language": "python",
     "metadata": {},
     "outputs": [
      {
       "output_type": "stream",
       "stream": "stdout",
       "text": [
        "nucleotides\n"
       ]
      }
     ],
     "prompt_number": 52
    },
    {
     "cell_type": "code",
     "collapsed": false,
     "input": [
      "# create separate keys and values lists\n",
      "molecules_keys = molecules.keys()\n",
      "molecules_values = molecules.values()\n",
      "print molecules_keys\n",
      "print molecules_values"
     ],
     "language": "python",
     "metadata": {},
     "outputs": [
      {
       "output_type": "stream",
       "stream": "stdout",
       "text": [
        "['hair', 'protein', 'DNA']\n",
        "['keratin', 'amino acids', 'nucleotides']\n"
       ]
      }
     ],
     "prompt_number": 53
    },
    {
     "cell_type": "code",
     "collapsed": false,
     "input": [
      "# merge these lists into a list of tuples\n",
      "list1 = zip(molecules_keys, molecules_values)\n",
      "print list1\n",
      "print type(list1) is list\n",
      "print type(list1[0]) is tuple"
     ],
     "language": "python",
     "metadata": {},
     "outputs": [
      {
       "output_type": "stream",
       "stream": "stdout",
       "text": [
        "[('hair', 'keratin'), ('protein', 'amino acids'), ('DNA', 'nucleotides')]\n",
        "True\n",
        "True\n"
       ]
      }
     ],
     "prompt_number": 54
    },
    {
     "cell_type": "code",
     "collapsed": false,
     "input": [
      "# recast list1 into a dictionary\n",
      "list1_dict = dict(list1)\n",
      "print list1_dict"
     ],
     "language": "python",
     "metadata": {},
     "outputs": [
      {
       "output_type": "stream",
       "stream": "stdout",
       "text": [
        "{'hair': 'keratin', 'protein': 'amino acids', 'DNA': 'nucleotides'}\n"
       ]
      }
     ],
     "prompt_number": 55
    },
    {
     "cell_type": "code",
     "collapsed": false,
     "input": [
      "# add ribosomes rna\n",
      "molecules[\"ribosomes\"] = \"RNA\"\n",
      "print molecules"
     ],
     "language": "python",
     "metadata": {},
     "outputs": [
      {
       "output_type": "stream",
       "stream": "stdout",
       "text": [
        "{'hair': 'keratin', 'ribosomes': 'RNA', 'protein': 'amino acids', 'DNA': 'nucleotides'}\n"
       ]
      }
     ],
     "prompt_number": 56
    },
    {
     "cell_type": "code",
     "collapsed": false,
     "input": [
      "# keys can be values too, and values can be repeated with different keys\n",
      "molecules[\"RNA\"] = \"nucleotides\" \n",
      "print molecules"
     ],
     "language": "python",
     "metadata": {},
     "outputs": [
      {
       "output_type": "stream",
       "stream": "stdout",
       "text": [
        "{'hair': 'keratin', 'ribosomes': 'RNA', 'protein': 'amino acids', 'DNA': 'nucleotides', 'RNA': 'nucleotides'}\n"
       ]
      }
     ],
     "prompt_number": 57
    },
    {
     "cell_type": "code",
     "collapsed": false,
     "input": [
      "# keys MUST be unique!! This overwrites the other ribosomes key!\n",
      "molecules[\"ribosomes\"] = \"rRNA\" \n",
      "print molecules"
     ],
     "language": "python",
     "metadata": {},
     "outputs": [
      {
       "output_type": "stream",
       "stream": "stdout",
       "text": [
        "{'hair': 'keratin', 'ribosomes': 'rRNA', 'protein': 'amino acids', 'DNA': 'nucleotides', 'RNA': 'nucleotides'}\n"
       ]
      }
     ],
     "prompt_number": 59
    }
   ],
   "metadata": {}
  }
 ]
}